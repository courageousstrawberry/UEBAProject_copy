{
 "cells": [
  {
   "cell_type": "code",
   "execution_count": null,
   "id": "b4a2d142",
   "metadata": {},
   "outputs": [],
   "source": [
    "# Run this cell to set up the notebook, but please don't change it.\n",
    "\n",
    "# These lines import the numpy and datascience modules.\n",
    "import numpy as np\n",
    "from datascience import *\n",
    "import warnings\n",
    "warnings.simplefilter('ignore', FutureWarning)"
   ]
  },
  {
   "cell_type": "code",
   "execution_count": null,
   "id": "8c9ccf17",
   "metadata": {},
   "outputs": [],
   "source": [
    "\n",
    "# Define the file path and the number of lines to print\n",
    "file_path = 'wls_day-02_001.txt'\n",
    "n = 10  # Number of lines to print\n",
    "\n",
    "# Open the file in read mode\n",
    "with open(file_path, 'r') as file:\n",
    "    # Iterate through the first n lines\n",
    "    for i, line in enumerate(file):\n",
    "        if i < n:\n",
    "            print(line, end='')  # Print the line (end='' avoids double-spacing)\n",
    "        else:\n",
    "            break  # Stop after printing n lines"
   ]
  },
  {
   "cell_type": "markdown",
   "id": "92444857",
   "metadata": {},
   "source": [
    "# Step 1: data format converting"
   ]
  },
  {
   "cell_type": "markdown",
   "id": "a3c6e7c1",
   "metadata": {},
   "source": [
    "Step 1 - convert the json format data file into csv format (wls_day-02_001.csv) with 10 columns\n",
    "\n",
    "1. UserName\n",
    "2. EventID\n",
    "3. LogHost\n",
    "4. LogonID\n",
    "5. DomainName\n",
    "6. ParentProcessName\n",
    "7. ParentProcessID\n",
    "8. ProcessName\n",
    "9. Time\n",
    "10. ProcessID\n"
   ]
  },
  {
   "cell_type": "code",
   "execution_count": null,
   "id": "c8aa30ad",
   "metadata": {},
   "outputs": [],
   "source": [
    "#sample code from DeepSeek\n",
    "\n",
    "import pandas as pd\n",
    "import json\n",
    "\n",
    "# Specify the path to your JSON file\n",
    "json_file = 'wls_day-02_001.txt'\n",
    "\n",
    "# Specify the path for the output CSV file\n",
    "csv_file = 'wls_day-02_001.csv'\n",
    "\n",
    "# Read the JSON file into a DataFrame\n",
    "df = pd.read_json(json_file)\n",
    "\n",
    "# Save the DataFrame to a CSV file\n",
    "df.to_csv(csv_file, index=False)\n",
    "\n",
    "print(f\"JSON data from '{json_file}' has been converted to CSV and saved as '{csv_file}'\")\n"
   ]
  },
  {
   "cell_type": "code",
   "execution_count": null,
   "id": "7324ab79",
   "metadata": {},
   "outputs": [],
   "source": [
    "wls_day2_json = Table().read_table('wls_day-02_10lines.json')\n",
    "wls_day2.show()"
   ]
  },
  {
   "cell_type": "code",
   "execution_count": null,
   "id": "63c2d9b4",
   "metadata": {},
   "outputs": [],
   "source": [
    "# Sample code from ChatGPT\n",
    "import json\n",
    "import csv\n",
    "\n",
    "# Load the JSON data from a file\n",
    "with open('wls_day-02_10lines.json', 'r') as json_file:\n",
    "    data = json.load(json_file)\n",
    "\n",
    "# Assuming data is a list of dictionaries (common structure in JSON)\n",
    "if isinstance(data, list):\n",
    "    # Open a CSV file to write the data\n",
    "    with open('wls_day-02_10lines.csv', 'w', newline='', encoding='utf-8') as csv_file:\n",
    "        writer = csv.DictWriter(csv_file, fieldnames=data[0].keys())\n",
    "        \n",
    "        # Write the header row\n",
    "        writer.writeheader()\n",
    "        \n",
    "        # Write data rows\n",
    "        writer.writerows(data)\n",
    "else:\n",
    "    print(\"JSON data is not a list, unable to convert to CSV.\")\n"
   ]
  },
  {
   "cell_type": "markdown",
   "id": "8857980e",
   "metadata": {},
   "source": [
    "# Step 2: Data loading into a table"
   ]
  },
  {
   "cell_type": "markdown",
   "id": "7eb875ba",
   "metadata": {},
   "source": [
    "Step 2 - load the data file (wls_day-02_001.csv) into a table if necessary clean the incorrect format data\n",
    "\n",
    "1. UserName\n",
    "2. EventID\n",
    "3. LogHost\n",
    "4. LogonID\n",
    "5. DomainName\n",
    "6. ParentProcessName\n",
    "7. ParentProcessID\n",
    "8. ProcessName\n",
    "9. Time\n",
    "10. ProcessID\n"
   ]
  },
  {
   "cell_type": "code",
   "execution_count": null,
   "id": "a76efd2c",
   "metadata": {},
   "outputs": [],
   "source": []
  },
  {
   "cell_type": "code",
   "execution_count": null,
   "id": "34ed6a81",
   "metadata": {},
   "outputs": [],
   "source": []
  },
  {
   "cell_type": "code",
   "execution_count": null,
   "id": "25e9ab8e",
   "metadata": {},
   "outputs": [],
   "source": []
  },
  {
   "cell_type": "markdown",
   "id": "5cc9d06d",
   "metadata": {},
   "source": [
    "# Step 3:  Data Visualization"
   ]
  },
  {
   "cell_type": "code",
   "execution_count": null,
   "id": "4165960a",
   "metadata": {},
   "outputs": [],
   "source": []
  },
  {
   "cell_type": "code",
   "execution_count": null,
   "id": "8ad17d6a",
   "metadata": {},
   "outputs": [],
   "source": []
  },
  {
   "cell_type": "code",
   "execution_count": null,
   "id": "9138853a",
   "metadata": {},
   "outputs": [],
   "source": []
  },
  {
   "cell_type": "code",
   "execution_count": null,
   "id": "7e447e4a",
   "metadata": {},
   "outputs": [],
   "source": []
  },
  {
   "cell_type": "code",
   "execution_count": null,
   "id": "d68a5d64",
   "metadata": {},
   "outputs": [],
   "source": []
  },
  {
   "cell_type": "code",
   "execution_count": null,
   "id": "e034330e",
   "metadata": {},
   "outputs": [],
   "source": []
  }
 ],
 "metadata": {
  "kernelspec": {
   "display_name": "Python 3 (ipykernel)",
   "language": "python",
   "name": "python3"
  },
  "language_info": {
   "codemirror_mode": {
    "name": "ipython",
    "version": 3
   },
   "file_extension": ".py",
   "mimetype": "text/x-python",
   "name": "python",
   "nbconvert_exporter": "python",
   "pygments_lexer": "ipython3",
   "version": "3.10.11"
  }
 },
 "nbformat": 4,
 "nbformat_minor": 5
}
