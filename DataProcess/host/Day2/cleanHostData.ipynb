{
 "cells": [
  {
   "cell_type": "code",
   "execution_count": 9,
   "id": "b4a2d142",
   "metadata": {},
   "outputs": [],
   "source": [
    "# Run this cell to set up the notebook, but please don't change it.\n",
    "\n",
    "# These lines import the numpy and datascience modules.\n",
    "import numpy as np\n",
    "from datascience import *\n",
    "import warnings\n",
    "warnings.simplefilter('ignore', FutureWarning)"
   ]
  },
  {
   "cell_type": "code",
   "execution_count": 11,
   "id": "8c9ccf17",
   "metadata": {},
   "outputs": [
    {
     "name": "stdout",
     "output_type": "stream",
     "text": [
      "{\"UserName\": \"Comp883524$\", \"EventID\": 4688, \"LogHost\": \"Comp883524\", \"LogonID\": \"0x3e7\", \"DomainName\": \"Domain001\", \"ParentProcessName\": \"svchost\", \"ParentProcessID\": \"0x35c\", \"ProcessName\": \"wmiprvse.exe\", \"Time\": 86400, \"ProcessID\": \"0x1db4\"}\n",
      "{\"UserName\": \"User805641\", \"EventID\": 4688, \"LogHost\": \"Comp836249\", \"LogonID\": \"0x45a5847\", \"DomainName\": \"Domain001\", \"ParentProcessName\": \"Proc028501\", \"ParentProcessID\": \"0x3a8c\", \"ProcessName\": \"Proc542756.exe\", \"Time\": 86400, \"ProcessID\": \"0x3314\"}\n",
      "{\"UserName\": \"Comp397468$\", \"EventID\": 4688, \"LogHost\": \"Comp397468\", \"LogonID\": \"0x3e7\", \"DomainName\": \"Domain001\", \"ParentProcessName\": \"services\", \"ParentProcessID\": \"0x2b8\", \"ProcessName\": \"svchost.exe\", \"Time\": 86400, \"ProcessID\": \"0xc770\"}\n",
      "{\"UserName\": \"Comp916004$\", \"EventID\": 4672, \"LogHost\": \"Comp916004\", \"LogonID\": \"0x32bba0c8\", \"DomainName\": \"Domain001\", \"Time\": 86400}\n",
      "{\"UserName\": \"Comp916004$\", \"EventID\": 4624, \"LogHost\": \"Comp916004\", \"LogonID\": \"0x32bba0c8\", \"DomainName\": \"Domain001\", \"LogonTypeDescription\": \"Network\", \"Source\": \"Comp916004\", \"AuthenticationPackage\": \"Kerberos\", \"Time\": 86400, \"LogonType\": 3}\n",
      "{\"UserName\": \"Comp836249$\", \"EventID\": 4688, \"LogHost\": \"Comp836249\", \"LogonID\": \"0x3e7\", \"DomainName\": \"Domain001\", \"ParentProcessName\": \"csrss\", \"ParentProcessID\": \"0x1c0\", \"ProcessName\": \"conhost.exe\", \"Time\": 86400, \"ProcessID\": \"0x17b8\"}\n",
      "{\"UserName\": \"Comp000116$\", \"EventID\": 4688, \"LogHost\": \"Comp000116\", \"LogonID\": \"0x3e7\", \"DomainName\": \"Domain001\", \"ParentProcessName\": \"services\", \"ParentProcessID\": \"0x2e0\", \"ProcessName\": \"rundll32.exe\", \"Time\": 86400, \"ProcessID\": \"0x13ee0\"}\n",
      "{\"UserName\": \"Comp373973$\", \"EventID\": 4634, \"LogHost\": \"Comp373973\", \"LogonID\": \"0x13ff5c02\", \"DomainName\": \"Domain001\", \"LogonTypeDescription\": \"Network\", \"Time\": 86400, \"LogonType\": 3}\n",
      "{\"UserName\": \"Comp763951$\", \"EventID\": 4688, \"LogHost\": \"Comp763951\", \"LogonID\": \"0x3e7\", \"DomainName\": \"Domain001\", \"ParentProcessName\": \"Proc461749\", \"ParentProcessID\": \"0x91c\", \"ProcessName\": \"Proc461749.exe\", \"Time\": 86400, \"ProcessID\": \"0x190c\"}\n",
      "{\"UserName\": \"local service\", \"EventID\": 4688, \"LogHost\": \"EnterpriseAppServer\", \"LogonID\": \"0x3e5\", \"DomainName\": \"nt authority\", \"ParentProcessName\": \"Proc126308\", \"ParentProcessID\": \"0x7d8\", \"ProcessName\": \"Proc965106.exe\", \"Time\": 86400, \"ProcessID\": \"0x15c4\"}\n"
     ]
    }
   ],
   "source": [
    "# Define the file path and the number of lines to print\n",
    "file_path = 'wls_day-02_001.txt'\n",
    "n = 10  # Number of lines to print\n",
    "\n",
    "# Open the file in read mode\n",
    "with open(file_path, 'r') as file:\n",
    "    # Iterate through the first n lines\n",
    "    for i, line in enumerate(file):\n",
    "        if i < n:\n",
    "            print(line, end='')  # Print the line (end='' avoids double-spacing)\n",
    "        else:\n",
    "            break  # Stop after printing n lines"
   ]
  },
  {
   "cell_type": "markdown",
   "id": "92444857",
   "metadata": {},
   "source": [
    "# Step 1: data clean"
   ]
  },
  {
   "cell_type": "markdown",
   "id": "a3c6e7c1",
   "metadata": {},
   "source": [
    "Step 1 - clean the data file into csv format (wls_day-02_001.csv)with 10 columns\n",
    "\n",
    "1. UserName\n",
    "2. EventID\n",
    "3. LogHost\n",
    "4. LogonID\n",
    "5. DomainName\n",
    "6. ParentProcessName\n",
    "7. ParentProcessID\n",
    "8. ProcessName\n",
    "9. Time\n",
    "10. ProcessID\n"
   ]
  },
  {
   "cell_type": "code",
   "execution_count": null,
   "id": "ab1edbac",
   "metadata": {},
   "outputs": [],
   "source": []
  },
  {
   "cell_type": "markdown",
   "id": "8857980e",
   "metadata": {},
   "source": [
    "# Step 2: Data loading into a table"
   ]
  },
  {
   "cell_type": "markdown",
   "id": "7eb875ba",
   "metadata": {},
   "source": [
    "Step 2 - load the data file (wls_day-02_001.csv) into a table if necessary clean the incorrect format data\n",
    "\n",
    "1. UserName\n",
    "2. EventID\n",
    "3. LogHost\n",
    "4. LogonID\n",
    "5. DomainName\n",
    "6. ParentProcessName\n",
    "7. ParentProcessID\n",
    "8. ProcessName\n",
    "9. Time\n",
    "10. ProcessID\n"
   ]
  },
  {
   "cell_type": "code",
   "execution_count": null,
   "id": "a76efd2c",
   "metadata": {},
   "outputs": [],
   "source": []
  },
  {
   "cell_type": "code",
   "execution_count": null,
   "id": "34ed6a81",
   "metadata": {},
   "outputs": [],
   "source": []
  },
  {
   "cell_type": "code",
   "execution_count": null,
   "id": "25e9ab8e",
   "metadata": {},
   "outputs": [],
   "source": []
  },
  {
   "cell_type": "markdown",
   "id": "5cc9d06d",
   "metadata": {},
   "source": [
    "# Step 3:  Data Visualization"
   ]
  },
  {
   "cell_type": "code",
   "execution_count": null,
   "id": "4165960a",
   "metadata": {},
   "outputs": [],
   "source": []
  },
  {
   "cell_type": "code",
   "execution_count": null,
   "id": "8ad17d6a",
   "metadata": {},
   "outputs": [],
   "source": []
  },
  {
   "cell_type": "code",
   "execution_count": null,
   "id": "9138853a",
   "metadata": {},
   "outputs": [],
   "source": []
  },
  {
   "cell_type": "code",
   "execution_count": null,
   "id": "7e447e4a",
   "metadata": {},
   "outputs": [],
   "source": []
  },
  {
   "cell_type": "code",
   "execution_count": null,
   "id": "d68a5d64",
   "metadata": {},
   "outputs": [],
   "source": []
  },
  {
   "cell_type": "code",
   "execution_count": null,
   "id": "e034330e",
   "metadata": {},
   "outputs": [],
   "source": []
  }
 ],
 "metadata": {
  "kernelspec": {
   "display_name": "Python 3 (ipykernel)",
   "language": "python",
   "name": "python3"
  },
  "language_info": {
   "codemirror_mode": {
    "name": "ipython",
    "version": 3
   },
   "file_extension": ".py",
   "mimetype": "text/x-python",
   "name": "python",
   "nbconvert_exporter": "python",
   "pygments_lexer": "ipython3",
   "version": "3.10.11"
  }
 },
 "nbformat": 4,
 "nbformat_minor": 5
}
