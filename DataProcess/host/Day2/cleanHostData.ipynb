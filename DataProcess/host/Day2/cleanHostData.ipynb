{
 "cells": [
  {
   "cell_type": "code",
   "execution_count": null,
   "id": "b4a2d142",
   "metadata": {},
   "outputs": [],
   "source": [
    "# Run this cell to set up the notebook, but please don't change it.\n",
    "\n",
    "# These lines import the numpy and datascience modules.\n",
    "import numpy as np\n",
    "from datascience import *\n",
    "import warnings\n",
    "warnings.simplefilter('ignore', FutureWarning)"
   ]
  },
  {
   "cell_type": "code",
   "execution_count": null,
   "id": "df1d51da",
   "metadata": {},
   "outputs": [],
   "source": [
    "# Function to parse a line and extract the 10 fields\n",
    "def parse_line(line, fields_to_extract):\n",
    "    try:\n",
    "        data = json.loads(line)\n",
    "        parsed_fields = []\n",
    "        \n",
    "        for field in fields_to_extract:\n",
    "            # Get the field value or empty string if not present\n",
    "            value = data.get(field, '')\n",
    "            # Convert to string and replace any commas to avoid CSV issues\n",
    "            parsed_fields.append(str(value).replace(',', ';'))\n",
    "        \n",
    "        # Join the fields with commas\n",
    "        return ','.join(parsed_fields)\n",
    "    except json.JSONDecodeError:\n",
    "        return None  # Return None for invalid JSON lines\n",
    "\n",
    "    \n",
    "    \n",
    "# Function definition to Read the file and write parsed lines to output file\n",
    "def file_convert_csv(input_file, output_file, fields_list):\n",
    "    with open(input_file, 'r') as infile, open(output_file, 'w') as outfile:\n",
    "        outfile.write(','.join(fields_list) + '\\n')\n",
    "        for line in infile:\n",
    "            parsed_line = parse_line(line.strip(), fields_to_extract)\n",
    "            if parsed_line is not None:  # Only write valid parsed lines\n",
    "                outfile.write(parsed_line + '\\n')\n",
    "\n",
    "    print(f\"Parsing complete. Output written to {output_file}\")\n",
    "    \n",
    "    "
   ]
  },
  {
   "cell_type": "code",
   "execution_count": null,
   "id": "8c9ccf17",
   "metadata": {},
   "outputs": [],
   "source": [
    "\n",
    "# Define the file path and the number of lines to print\n",
    "file_path = 'wls_day-02_001.txt'\n",
    "n = 10  # Number of lines to print\n",
    "\n",
    "# Open the file in read mode\n",
    "with open(file_path, 'r') as file:\n",
    "    # Iterate through the first n lines\n",
    "    for i, line in enumerate(file):\n",
    "        if i < n:\n",
    "            print(i)\n",
    "            print(line, end='')  # Print the line (end='' avoids double-spacing)\n",
    "        else:\n",
    "            break  # Stop after printing n lines"
   ]
  },
  {
   "cell_type": "markdown",
   "id": "92444857",
   "metadata": {},
   "source": [
    "# Step 1: data format converting"
   ]
  },
  {
   "cell_type": "markdown",
   "id": "a3c6e7c1",
   "metadata": {},
   "source": [
    "Step 1 - convert the json format data file into csv format (wls_day-02_001.csv) with 10 columns\n",
    "\n",
    "1. UserName\n",
    "2. EventID\n",
    "3. LogHost\n",
    "4. LogonID\n",
    "5. DomainName\n",
    "6. ParentProcessName\n",
    "7. ParentProcessID\n",
    "8. ProcessName\n",
    "9. Time\n",
    "10. ProcessID\n"
   ]
  },
  {
   "cell_type": "code",
   "execution_count": null,
   "id": "7324ab79",
   "metadata": {
    "scrolled": true
   },
   "outputs": [],
   "source": [
    "# The datafile can't be directly read into a table\n",
    "wls_day2_json = Table().read_table('wls_day-02_10lines.json')\n",
    "wls_day2_json.show()"
   ]
  },
  {
   "cell_type": "markdown",
   "id": "8857980e",
   "metadata": {},
   "source": [
    "# Step 2: Data loading into a table"
   ]
  },
  {
   "cell_type": "markdown",
   "id": "7eb875ba",
   "metadata": {},
   "source": [
    "Step 2 - load the data file (wls_day-02_001.csv) into a table if necessary clean the incorrect format data\n",
    "\n",
    "1. UserName\n",
    "2. EventID\n",
    "3. LogHost\n",
    "4. LogonID\n",
    "5. DomainName\n",
    "6. ParentProcessName\n",
    "7. ParentProcessID\n",
    "8. ProcessName\n",
    "9. Time\n",
    "10. ProcessID\n"
   ]
  },
  {
   "cell_type": "code",
   "execution_count": null,
   "id": "a76efd2c",
   "metadata": {},
   "outputs": [],
   "source": [
    "import json\n",
    "\n",
    "# Define the fields we want to extract (total of 10 fields)\n",
    "fields_to_extract = [\n",
    "    'UserName',\n",
    "    'EventID',\n",
    "    'LogHost',\n",
    "    'LogonID',\n",
    "    'DomainName',\n",
    "    'ParentProcessName',\n",
    "    'ParentProcessID',\n",
    "    'ProcessName',\n",
    "    'Time',\n",
    "    'ProcessID'\n",
    "]\n",
    "\n",
    "\n",
    "# Input and output file paths\n",
    "input_file = 'wls_day-02_001.txt'\n",
    "output_file = 'wls_day-02_001.csv'\n",
    "\n",
    "# Call the function to convert the data file into a text file (*.csv) with the array of the data field\n",
    "file_convert_csv(input_file, output_file, fields_to_extract)"
   ]
  },
  {
   "cell_type": "code",
   "execution_count": null,
   "id": "10d6dd89",
   "metadata": {},
   "outputs": [],
   "source": [
    "wls_day2_001 = Table().read_table('wls_day-02_001.csv')\n",
    "print(wls_day2_001.num_rows)\n",
    "wls_day2_001.show(10)"
   ]
  },
  {
   "cell_type": "markdown",
   "id": "4a8aac03",
   "metadata": {},
   "source": [
    "# Test file accessing (csv) on Google Drive"
   ]
  },
  {
   "cell_type": "code",
   "execution_count": null,
   "id": "49ed94ae",
   "metadata": {},
   "outputs": [],
   "source": [
    "# Test to access the data file on Google Drive\n",
    "# Define the file path and the number of lines to print\n",
    "\n",
    "import pandas as pd\n",
    "\n",
    "# The link for the wls_day-02_001.csv (4.3MB) file - \n",
    "# https://drive.google.com/file/d/1t05t6Sn1JrvVfiLOF8fZwZFumzBh0gLI/view?usp=sharing\n",
    "\n",
    "\n",
    "FILE_ID = \"1t05t6Sn1JrvVfiLOF8fZwZFumzBh0gLI\"\n",
    "\n",
    "URL = f\"https://drive.google.com/uc?id={FILE_ID}\"\n",
    "\n",
    "df = pd.read_csv(URL)\n",
    "print(df.head())\n",
    "\n"
   ]
  },
  {
   "cell_type": "code",
   "execution_count": null,
   "id": "8a8ad5b1",
   "metadata": {},
   "outputs": [],
   "source": [
    "wls_day2_001_url = Table().read_table(URL)\n",
    "wls_day2_001_url.show(10)"
   ]
  },
  {
   "cell_type": "code",
   "execution_count": null,
   "id": "5628d619",
   "metadata": {},
   "outputs": [],
   "source": [
    "# Test to access the data file on Google Drive\n",
    "# Define the file path and the number of lines to print\n",
    "\n",
    "import pandas as pd\n",
    "\n",
    "# The link for the wls_day-02.csv file (4.11GB) - \n",
    "# https://drive.google.com/file/d/1UjFNwQltfnvAqCheNAAJ8H_erm0c06Tb/view?usp=sharing\n",
    "\n",
    "FILE_ID = \"1UjFNwQltfnvAqCheNAAJ8H_erm0c06Tb\"\n",
    "\n",
    "URL = f\"https://drive.google.com/uc?id={FILE_ID}\"\n",
    "\n",
    "df = pd.read_csv(URL)\n",
    "print(df.head())\n",
    "    "
   ]
  },
  {
   "cell_type": "code",
   "execution_count": null,
   "id": "13d457ca",
   "metadata": {},
   "outputs": [],
   "source": [
    "wls_day2_url = Table().read_table(URL)\n",
    "wls_day2_url.show(10)"
   ]
  },
  {
   "cell_type": "code",
   "execution_count": null,
   "id": "8f03b91e",
   "metadata": {},
   "outputs": [],
   "source": []
  },
  {
   "cell_type": "markdown",
   "id": "5cc9d06d",
   "metadata": {},
   "source": [
    "# Step 3:  Data Visualization"
   ]
  },
  {
   "cell_type": "code",
   "execution_count": null,
   "id": "4165960a",
   "metadata": {},
   "outputs": [],
   "source": []
  },
  {
   "cell_type": "code",
   "execution_count": null,
   "id": "8ad17d6a",
   "metadata": {},
   "outputs": [],
   "source": []
  },
  {
   "cell_type": "code",
   "execution_count": null,
   "id": "9138853a",
   "metadata": {},
   "outputs": [],
   "source": []
  },
  {
   "cell_type": "code",
   "execution_count": null,
   "id": "7e447e4a",
   "metadata": {},
   "outputs": [],
   "source": []
  },
  {
   "cell_type": "code",
   "execution_count": null,
   "id": "d68a5d64",
   "metadata": {},
   "outputs": [],
   "source": []
  },
  {
   "cell_type": "code",
   "execution_count": null,
   "id": "e034330e",
   "metadata": {},
   "outputs": [],
   "source": []
  }
 ],
 "metadata": {
  "kernelspec": {
   "display_name": "Python 3 (ipykernel)",
   "language": "python",
   "name": "python3"
  },
  "language_info": {
   "codemirror_mode": {
    "name": "ipython",
    "version": 3
   },
   "file_extension": ".py",
   "mimetype": "text/x-python",
   "name": "python",
   "nbconvert_exporter": "python",
   "pygments_lexer": "ipython3",
   "version": "3.10.11"
  }
 },
 "nbformat": 4,
 "nbformat_minor": 5
}
